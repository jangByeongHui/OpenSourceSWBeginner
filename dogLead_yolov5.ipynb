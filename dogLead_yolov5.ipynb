{
  "nbformat": 4,
  "nbformat_minor": 0,
  "metadata": {
    "colab": {
      "name": "dogLead_yolov5.ipynb",
      "provenance": [],
      "collapsed_sections": [],
      "authorship_tag": "ABX9TyNgn9givaXC1TIXYrm0/eRo",
      "include_colab_link": true
    },
    "kernelspec": {
      "name": "python3",
      "display_name": "Python 3"
    },
    "language_info": {
      "name": "python"
    },
    "accelerator": "GPU"
  },
  "cells": [
    {
      "cell_type": "markdown",
      "metadata": {
        "id": "view-in-github",
        "colab_type": "text"
      },
      "source": [
        "<a href=\"https://colab.research.google.com/github/jangByeongHui/OpenSourceSWProject/blob/master/dogLead_yolov5.ipynb\" target=\"_parent\"><img src=\"https://colab.research.google.com/assets/colab-badge.svg\" alt=\"Open In Colab\"/></a>"
      ]
    },
    {
      "cell_type": "code",
      "metadata": {
        "colab": {
          "base_uri": "https://localhost:8080/"
        },
        "id": "t-ZgJKUvEfTd",
        "outputId": "5a238714-f46e-47f1-b967-75820a220c8a"
      },
      "source": [
        "from google.colab import drive\n",
        "drive.mount('/content/drive')"
      ],
      "execution_count": 18,
      "outputs": [
        {
          "output_type": "stream",
          "text": [
            "Drive already mounted at /content/drive; to attempt to forcibly remount, call drive.mount(\"/content/drive\", force_remount=True).\n"
          ],
          "name": "stdout"
        }
      ]
    },
    {
      "cell_type": "code",
      "metadata": {
        "colab": {
          "base_uri": "https://localhost:8080/"
        },
        "id": "mueX8d-E9Ubv",
        "outputId": "318d3784-2f00-4c92-8eaf-82f91fd3343d"
      },
      "source": [
        "%cat /content/drive/MyDrive/OpenSourceSWProject/dogLead/dataset/data.yaml"
      ],
      "execution_count": 19,
      "outputs": [
        {
          "output_type": "stream",
          "text": [
            "names:\n",
            "- dog\n",
            "- lead\n",
            "nc: 2\n",
            "train: /content/drive/MyDrive/OpenSourceSWProject/dogLead/dataset/train.txt\n",
            "val: /content/drive/MyDrive/OpenSourceSWProject/dogLead/dataset/val.txt\n"
          ],
          "name": "stdout"
        }
      ]
    },
    {
      "cell_type": "code",
      "metadata": {
        "colab": {
          "base_uri": "https://localhost:8080/"
        },
        "id": "7eg1xcvQCRoP",
        "outputId": "54a3bfad-b2f7-4f17-ef94-2a1d84ceda47"
      },
      "source": [
        "from glob import glob\n",
        "img_list = glob('/content/drive/MyDrive/OpenSourceSWProject/dogLead/dataset/images/train/*.jpg')\n",
        "print(len(img_list))"
      ],
      "execution_count": 47,
      "outputs": [
        {
          "output_type": "stream",
          "text": [
            "89\n"
          ],
          "name": "stdout"
        }
      ]
    },
    {
      "cell_type": "code",
      "metadata": {
        "colab": {
          "base_uri": "https://localhost:8080/"
        },
        "id": "_CChwylyCoQa",
        "outputId": "1944c620-2a3f-4e62-a013-c3afa390a628"
      },
      "source": [
        "from sklearn.model_selection import train_test_split\n",
        "train_img_list,val_img_list = train_test_split(img_list,test_size=0.2,random_state=2000)\n",
        "print(len(train_img_list),len(val_img_list))"
      ],
      "execution_count": 48,
      "outputs": [
        {
          "output_type": "stream",
          "text": [
            "71 18\n"
          ],
          "name": "stdout"
        }
      ]
    },
    {
      "cell_type": "code",
      "metadata": {
        "id": "8MpWl7v7C2Kb"
      },
      "source": [
        "with open('/content/drive/MyDrive/OpenSourceSWProject/dogLead/dataset/train.txt','w') as f:\n",
        "    f.write('\\n'.join(train_img_list)+'\\n')\n",
        "with open('/content/drive/MyDrive/OpenSourceSWProject/dogLead/dataset/val.txt','w') as f:\n",
        "    f.write('\\n'.join(val_img_list)+'\\n')"
      ],
      "execution_count": 49,
      "outputs": []
    },
    {
      "cell_type": "code",
      "metadata": {
        "colab": {
          "base_uri": "https://localhost:8080/"
        },
        "id": "heGiPsU6DcxE",
        "outputId": "170ba97d-9578-4e90-9c5f-086ade244287"
      },
      "source": [
        "import yaml\n",
        "\n",
        "with open('/content/drive/MyDrive/OpenSourceSWProject/dogLead/dataset/data.yaml','r') as f:\n",
        "    data=yaml.load(f)\n",
        "\n",
        "data['train']='/content/drive/MyDrive/OpenSourceSWProject/dogLead/dataset/train.txt'\n",
        "data['val']='/content/drive/MyDrive/OpenSourceSWProject/dogLead/dataset/val.txt'\n",
        "\n",
        "data['names']=['dog','lead']\n",
        "\n",
        "with open('/content/drive/MyDrive/OpenSourceSWProject/dogLead/dataset/data.yaml','w') as f:\n",
        "    yaml.dump(data,f)\n",
        "print(data)"
      ],
      "execution_count": 50,
      "outputs": [
        {
          "output_type": "stream",
          "text": [
            "{'names': ['dog', 'lead'], 'nc': 2, 'train': '/content/drive/MyDrive/OpenSourceSWProject/dogLead/dataset/train.txt', 'val': '/content/drive/MyDrive/OpenSourceSWProject/dogLead/dataset/val.txt'}\n"
          ],
          "name": "stdout"
        },
        {
          "output_type": "stream",
          "text": [
            "/usr/local/lib/python3.7/dist-packages/ipykernel_launcher.py:4: YAMLLoadWarning: calling yaml.load() without Loader=... is deprecated, as the default Loader is unsafe. Please read https://msg.pyyaml.org/load for full details.\n",
            "  after removing the cwd from sys.path.\n"
          ],
          "name": "stderr"
        }
      ]
    },
    {
      "cell_type": "code",
      "metadata": {
        "colab": {
          "base_uri": "https://localhost:8080/"
        },
        "id": "BTxCKG5rDzvR",
        "outputId": "e9e97923-e306-4c50-f1bf-800d85cff917"
      },
      "source": [
        "%cd /content/drive/MyDrive/OpenSourceSWProject/dogLead/yolov5/\n",
        "!python train.py --img 416 --batch 16 --epochs 50 --data /content/drive/MyDrive/OpenSourceSWProject/dogLead/dataset/data.yaml --weights yolov5s.pt --name dogLead_Yolov5_result"
      ],
      "execution_count": 51,
      "outputs": [
        {
          "output_type": "stream",
          "text": [
            "/content/drive/MyDrive/OpenSourceSWProject/dogLead/yolov5\n",
            "\u001b[34m\u001b[1mgithub: \u001b[0m⚠️ WARNING: code is out of date by 14 commits. Use 'git pull' to update or 'git clone https://github.com/ultralytics/yolov5' to download latest.\n",
            "YOLOv5 🚀 v5.0-76-g57b0d3a torch 1.8.1+cu101 CUDA:0 (Tesla K80, 11441.1875MB)\n",
            "\n",
            "Namespace(adam=False, artifact_alias='latest', batch_size=16, bbox_interval=-1, bucket='', cache_images=False, cfg='', data='/content/drive/MyDrive/OpenSourceSWProject/dogLead/dataset/data.yaml', device='', entity=None, epochs=50, evolve=False, exist_ok=False, global_rank=-1, hyp='data/hyp.scratch.yaml', image_weights=False, img_size=[416, 416], label_smoothing=0.0, linear_lr=False, local_rank=-1, multi_scale=False, name='dogLead_Yolov5_result', noautoanchor=False, nosave=False, notest=False, project='runs/train', quad=False, rect=False, resume=False, save_dir='runs/train/dogLead_Yolov5_result7', save_period=-1, single_cls=False, sync_bn=False, total_batch_size=16, upload_dataset=False, weights='yolov5s.pt', workers=8, world_size=1)\n",
            "\u001b[34m\u001b[1mtensorboard: \u001b[0mStart with 'tensorboard --logdir runs/train', view at http://localhost:6006/\n",
            "2021-05-13 10:28:14.587198: I tensorflow/stream_executor/platform/default/dso_loader.cc:49] Successfully opened dynamic library libcudart.so.11.0\n",
            "\u001b[34m\u001b[1mhyperparameters: \u001b[0mlr0=0.01, lrf=0.2, momentum=0.937, weight_decay=0.0005, warmup_epochs=3.0, warmup_momentum=0.8, warmup_bias_lr=0.1, box=0.05, cls=0.5, cls_pw=1.0, obj=1.0, obj_pw=1.0, iou_t=0.2, anchor_t=4.0, fl_gamma=0.0, hsv_h=0.015, hsv_s=0.7, hsv_v=0.4, degrees=0.0, translate=0.1, scale=0.5, shear=0.0, perspective=0.0, flipud=0.0, fliplr=0.5, mosaic=1.0, mixup=0.0\n",
            "\u001b[34m\u001b[1mwandb: \u001b[0mInstall Weights & Biases for YOLOv5 logging with 'pip install wandb' (recommended)\n",
            "Overriding model.yaml nc=80 with nc=2\n",
            "\n",
            "                 from  n    params  module                                  arguments                     \n",
            "  0                -1  1      3520  models.common.Focus                     [3, 32, 3]                    \n",
            "  1                -1  1     18560  models.common.Conv                      [32, 64, 3, 2]                \n",
            "  2                -1  1     18816  models.common.C3                        [64, 64, 1]                   \n",
            "  3                -1  1     73984  models.common.Conv                      [64, 128, 3, 2]               \n",
            "  4                -1  1    156928  models.common.C3                        [128, 128, 3]                 \n",
            "  5                -1  1    295424  models.common.Conv                      [128, 256, 3, 2]              \n",
            "  6                -1  1    625152  models.common.C3                        [256, 256, 3]                 \n",
            "  7                -1  1   1180672  models.common.Conv                      [256, 512, 3, 2]              \n",
            "  8                -1  1    656896  models.common.SPP                       [512, 512, [5, 9, 13]]        \n",
            "  9                -1  1   1182720  models.common.C3                        [512, 512, 1, False]          \n",
            " 10                -1  1    131584  models.common.Conv                      [512, 256, 1, 1]              \n",
            " 11                -1  1         0  torch.nn.modules.upsampling.Upsample    [None, 2, 'nearest']          \n",
            " 12           [-1, 6]  1         0  models.common.Concat                    [1]                           \n",
            " 13                -1  1    361984  models.common.C3                        [512, 256, 1, False]          \n",
            " 14                -1  1     33024  models.common.Conv                      [256, 128, 1, 1]              \n",
            " 15                -1  1         0  torch.nn.modules.upsampling.Upsample    [None, 2, 'nearest']          \n",
            " 16           [-1, 4]  1         0  models.common.Concat                    [1]                           \n",
            " 17                -1  1     90880  models.common.C3                        [256, 128, 1, False]          \n",
            " 18                -1  1    147712  models.common.Conv                      [128, 128, 3, 2]              \n",
            " 19          [-1, 14]  1         0  models.common.Concat                    [1]                           \n",
            " 20                -1  1    296448  models.common.C3                        [256, 256, 1, False]          \n",
            " 21                -1  1    590336  models.common.Conv                      [256, 256, 3, 2]              \n",
            " 22          [-1, 10]  1         0  models.common.Concat                    [1]                           \n",
            " 23                -1  1   1182720  models.common.C3                        [512, 512, 1, False]          \n",
            " 24      [17, 20, 23]  1     18879  models.yolo.Detect                      [2, [[10, 13, 16, 30, 33, 23], [30, 61, 62, 45, 59, 119], [116, 90, 156, 198, 373, 326]], [128, 256, 512]]\n",
            "Model Summary: 283 layers, 7066239 parameters, 7066239 gradients\n",
            "\n",
            "Transferred 356/362 items from yolov5s.pt\n",
            "Scaled weight_decay = 0.0005\n",
            "Optimizer groups: 62 .bias, 62 conv.weight, 59 other\n",
            "\u001b[34m\u001b[1mtrain: \u001b[0mScanning '/content/drive/MyDrive/OpenSourceSWProject/dogLead/dataset/train' images and labels... 70 found, 1 missing, 0 empty, 0 corrupted: 100% 71/71 [00:11<00:00,  6.27it/s]\n",
            "\u001b[34m\u001b[1mtrain: \u001b[0mNew cache created: /content/drive/MyDrive/OpenSourceSWProject/dogLead/dataset/train.cache\n",
            "\u001b[34m\u001b[1mval: \u001b[0mScanning '/content/drive/MyDrive/OpenSourceSWProject/dogLead/dataset/val' images and labels... 18 found, 0 missing, 0 empty, 0 corrupted: 100% 18/18 [00:02<00:00,  6.79it/s]\n",
            "\u001b[34m\u001b[1mval: \u001b[0mNew cache created: /content/drive/MyDrive/OpenSourceSWProject/dogLead/dataset/val.cache\n",
            "Plotting labels... \n",
            "\n",
            "\u001b[34m\u001b[1mautoanchor: \u001b[0mAnalyzing anchors... anchors/target = 4.78, Best Possible Recall (BPR) = 1.0000\n",
            "Image sizes 416 train, 416 test\n",
            "Using 2 dataloader workers\n",
            "Logging results to runs/train/dogLead_Yolov5_result7\n",
            "Starting training for 50 epochs...\n",
            "\n",
            "     Epoch   gpu_mem       box       obj       cls     total    labels  img_size\n",
            "      0/49    0.849G    0.1194   0.03377   0.03056    0.1838        49       416: 100% 5/5 [00:06<00:00,  1.31s/it]\n",
            "               Class      Images      Labels           P           R      mAP@.5  mAP@.5:.95: 100% 1/1 [00:01<00:00,  1.42s/it]\n",
            "                 all          18          53      0.0218        0.15      0.0124     0.00198\n",
            "\n",
            "     Epoch   gpu_mem       box       obj       cls     total    labels  img_size\n",
            "      1/49     1.38G    0.1186   0.03673   0.03051    0.1858        45       416: 100% 5/5 [00:02<00:00,  2.27it/s]\n",
            "               Class      Images      Labels           P           R      mAP@.5  mAP@.5:.95: 100% 1/1 [00:00<00:00,  1.72it/s]\n",
            "                 all          18          53      0.0277       0.125      0.0144     0.00206\n",
            "\n",
            "     Epoch   gpu_mem       box       obj       cls     total    labels  img_size\n",
            "      2/49     1.38G    0.1159   0.03727   0.03038    0.1836        33       416: 100% 5/5 [00:02<00:00,  2.08it/s]\n",
            "               Class      Images      Labels           P           R      mAP@.5  mAP@.5:.95: 100% 1/1 [00:00<00:00,  1.43it/s]\n",
            "                 all          18          53      0.0234       0.125      0.0122     0.00219\n",
            "\n",
            "     Epoch   gpu_mem       box       obj       cls     total    labels  img_size\n",
            "      3/49     1.38G    0.1156   0.03789   0.03021    0.1837        47       416: 100% 5/5 [00:03<00:00,  1.58it/s]\n",
            "               Class      Images      Labels           P           R      mAP@.5  mAP@.5:.95: 100% 1/1 [00:00<00:00,  1.33it/s]\n",
            "                 all          18          53      0.0258         0.1      0.0136     0.00196\n",
            "\n",
            "     Epoch   gpu_mem       box       obj       cls     total    labels  img_size\n",
            "      4/49     1.38G    0.1119   0.03945    0.0294    0.1807        52       416: 100% 5/5 [00:03<00:00,  1.41it/s]\n",
            "               Class      Images      Labels           P           R      mAP@.5  mAP@.5:.95: 100% 1/1 [00:00<00:00,  1.52it/s]\n",
            "                 all          18          53      0.0295       0.075      0.0164      0.0039\n",
            "\n",
            "     Epoch   gpu_mem       box       obj       cls     total    labels  img_size\n",
            "      5/49     1.38G    0.1108   0.03961   0.02892    0.1794        57       416: 100% 5/5 [00:02<00:00,  1.85it/s]\n",
            "               Class      Images      Labels           P           R      mAP@.5  mAP@.5:.95: 100% 1/1 [00:00<00:00,  1.53it/s]\n",
            "                 all          18          53      0.0254         0.1      0.0164     0.00347\n",
            "\n",
            "     Epoch   gpu_mem       box       obj       cls     total    labels  img_size\n",
            "      6/49     1.38G      0.11   0.03949   0.02871    0.1782        53       416: 100% 5/5 [00:03<00:00,  1.49it/s]\n",
            "               Class      Images      Labels           P           R      mAP@.5  mAP@.5:.95: 100% 1/1 [00:00<00:00,  1.47it/s]\n",
            "                 all          18          53      0.0318        0.05      0.0184       0.003\n",
            "\n",
            "     Epoch   gpu_mem       box       obj       cls     total    labels  img_size\n",
            "      7/49     1.38G    0.1054   0.03793   0.02834    0.1717        41       416: 100% 5/5 [00:03<00:00,  1.51it/s]\n",
            "               Class      Images      Labels           P           R      mAP@.5  mAP@.5:.95: 100% 1/1 [00:00<00:00,  1.66it/s]\n",
            "                 all          18          53      0.0475        0.05      0.0179     0.00303\n",
            "\n",
            "     Epoch   gpu_mem       box       obj       cls     total    labels  img_size\n",
            "      8/49     1.38G    0.1051   0.04129   0.02767     0.174        49       416: 100% 5/5 [00:03<00:00,  1.45it/s]\n",
            "               Class      Images      Labels           P           R      mAP@.5  mAP@.5:.95: 100% 1/1 [00:00<00:00,  1.45it/s]\n",
            "                 all          18          53      0.0545        0.05      0.0187     0.00328\n",
            "\n",
            "     Epoch   gpu_mem       box       obj       cls     total    labels  img_size\n",
            "      9/49     1.38G    0.1041   0.03972   0.02771    0.1716        49       416: 100% 5/5 [00:03<00:00,  1.51it/s]\n",
            "               Class      Images      Labels           P           R      mAP@.5  mAP@.5:.95: 100% 1/1 [00:00<00:00,  1.98it/s]\n",
            "                 all          18          53      0.0666        0.05      0.0214     0.00396\n",
            "\n",
            "     Epoch   gpu_mem       box       obj       cls     total    labels  img_size\n",
            "     10/49     1.38G   0.09969   0.04791   0.02691    0.1745        59       416: 100% 5/5 [00:02<00:00,  1.87it/s]\n",
            "               Class      Images      Labels           P           R      mAP@.5  mAP@.5:.95: 100% 1/1 [00:00<00:00,  1.47it/s]\n",
            "                 all          18          53       0.108        0.05      0.0298     0.00499\n",
            "\n",
            "     Epoch   gpu_mem       box       obj       cls     total    labels  img_size\n",
            "     11/49     1.39G   0.09965   0.04278   0.02673    0.1692        38       416: 100% 5/5 [00:02<00:00,  2.01it/s]\n",
            "               Class      Images      Labels           P           R      mAP@.5  mAP@.5:.95: 100% 1/1 [00:00<00:00,  1.45it/s]\n",
            "                 all          18          53      0.0832       0.075      0.0365     0.00613\n",
            "\n",
            "     Epoch   gpu_mem       box       obj       cls     total    labels  img_size\n",
            "     12/49     1.39G    0.0992   0.04525   0.02665    0.1711        36       416: 100% 5/5 [00:03<00:00,  1.29it/s]\n",
            "               Class      Images      Labels           P           R      mAP@.5  mAP@.5:.95: 100% 1/1 [00:00<00:00,  1.84it/s]\n",
            "                 all          18          53      0.0774       0.075      0.0548     0.00945\n",
            "\n",
            "     Epoch   gpu_mem       box       obj       cls     total    labels  img_size\n",
            "     13/49     1.39G   0.09412   0.04077     0.026    0.1609        30       416: 100% 5/5 [00:02<00:00,  1.76it/s]\n",
            "               Class      Images      Labels           P           R      mAP@.5  mAP@.5:.95: 100% 1/1 [00:00<00:00,  1.50it/s]\n",
            "                 all          18          53      0.0512       0.225      0.0642      0.0121\n",
            "\n",
            "     Epoch   gpu_mem       box       obj       cls     total    labels  img_size\n",
            "     14/49     1.39G   0.09533   0.04004    0.0258    0.1612        35       416: 100% 5/5 [00:02<00:00,  1.78it/s]\n",
            "               Class      Images      Labels           P           R      mAP@.5  mAP@.5:.95: 100% 1/1 [00:00<00:00,  1.56it/s]\n",
            "                 all          18          53      0.0808       0.225      0.0686      0.0109\n",
            "\n",
            "     Epoch   gpu_mem       box       obj       cls     total    labels  img_size\n",
            "     15/49     1.39G   0.09524   0.04418   0.02465    0.1641        33       416: 100% 5/5 [00:03<00:00,  1.55it/s]\n",
            "               Class      Images      Labels           P           R      mAP@.5  mAP@.5:.95: 100% 1/1 [00:00<00:00,  1.42it/s]\n",
            "                 all          18          53        0.12         0.2       0.106      0.0161\n",
            "\n",
            "     Epoch   gpu_mem       box       obj       cls     total    labels  img_size\n",
            "     16/49     1.39G   0.09359   0.04617   0.02454    0.1643        50       416: 100% 5/5 [00:02<00:00,  1.76it/s]\n",
            "               Class      Images      Labels           P           R      mAP@.5  mAP@.5:.95: 100% 1/1 [00:00<00:00,  2.04it/s]\n",
            "                 all          18          53       0.153       0.199       0.119      0.0201\n",
            "\n",
            "     Epoch   gpu_mem       box       obj       cls     total    labels  img_size\n",
            "     17/49     1.39G   0.09145   0.04564   0.02339    0.1605        29       416: 100% 5/5 [00:02<00:00,  1.71it/s]\n",
            "               Class      Images      Labels           P           R      mAP@.5  mAP@.5:.95: 100% 1/1 [00:00<00:00,  1.38it/s]\n",
            "                 all          18          53       0.175       0.148       0.126        0.03\n",
            "\n",
            "     Epoch   gpu_mem       box       obj       cls     total    labels  img_size\n",
            "     18/49     1.39G   0.09206   0.04547   0.02417    0.1617        43       416: 100% 5/5 [00:02<00:00,  1.75it/s]\n",
            "               Class      Images      Labels           P           R      mAP@.5  mAP@.5:.95: 100% 1/1 [00:00<00:00,  1.50it/s]\n",
            "                 all          18          53       0.222       0.175       0.156        0.03\n",
            "\n",
            "     Epoch   gpu_mem       box       obj       cls     total    labels  img_size\n",
            "     19/49     1.39G   0.08659   0.04451   0.02325    0.1544        42       416: 100% 5/5 [00:02<00:00,  1.91it/s]\n",
            "               Class      Images      Labels           P           R      mAP@.5  mAP@.5:.95: 100% 1/1 [00:00<00:00,  1.75it/s]\n",
            "                 all          18          53       0.764         0.2       0.194      0.0383\n",
            "\n",
            "     Epoch   gpu_mem       box       obj       cls     total    labels  img_size\n",
            "     20/49     1.39G   0.08857   0.04728   0.02276    0.1586        44       416: 100% 5/5 [00:02<00:00,  1.67it/s]\n",
            "               Class      Images      Labels           P           R      mAP@.5  mAP@.5:.95: 100% 1/1 [00:00<00:00,  1.73it/s]\n",
            "                 all          18          53       0.831       0.246       0.266      0.0517\n",
            "\n",
            "     Epoch   gpu_mem       box       obj       cls     total    labels  img_size\n",
            "     21/49     1.39G    0.0876     0.049   0.02285    0.1594        42       416: 100% 5/5 [00:02<00:00,  2.24it/s]\n",
            "               Class      Images      Labels           P           R      mAP@.5  mAP@.5:.95: 100% 1/1 [00:00<00:00,  1.59it/s]\n",
            "                 all          18          53       0.287       0.275       0.249      0.0554\n",
            "\n",
            "     Epoch   gpu_mem       box       obj       cls     total    labels  img_size\n",
            "     22/49     1.39G   0.08509   0.04937   0.02189    0.1564        44       416: 100% 5/5 [00:03<00:00,  1.45it/s]\n",
            "               Class      Images      Labels           P           R      mAP@.5  mAP@.5:.95: 100% 1/1 [00:00<00:00,  1.87it/s]\n",
            "                 all          18          53        0.85         0.3       0.347      0.0848\n",
            "\n",
            "     Epoch   gpu_mem       box       obj       cls     total    labels  img_size\n",
            "     23/49     1.39G   0.08334   0.04569   0.02206    0.1511        49       416: 100% 5/5 [00:02<00:00,  1.74it/s]\n",
            "               Class      Images      Labels           P           R      mAP@.5  mAP@.5:.95: 100% 1/1 [00:00<00:00,  1.55it/s]\n",
            "                 all          18          53       0.892       0.274       0.365       0.107\n",
            "\n",
            "     Epoch   gpu_mem       box       obj       cls     total    labels  img_size\n",
            "     24/49     1.39G   0.08404   0.04752   0.02133    0.1529        42       416: 100% 5/5 [00:02<00:00,  1.85it/s]\n",
            "               Class      Images      Labels           P           R      mAP@.5  mAP@.5:.95: 100% 1/1 [00:00<00:00,  1.65it/s]\n",
            "                 all          18          53       0.842       0.324       0.362       0.111\n",
            "\n",
            "     Epoch   gpu_mem       box       obj       cls     total    labels  img_size\n",
            "     25/49     1.39G   0.08295   0.04547    0.0218    0.1502        46       416: 100% 5/5 [00:02<00:00,  1.72it/s]\n",
            "               Class      Images      Labels           P           R      mAP@.5  mAP@.5:.95: 100% 1/1 [00:00<00:00,  1.58it/s]\n",
            "                 all          18          53        0.86       0.325       0.367        0.12\n",
            "\n",
            "     Epoch   gpu_mem       box       obj       cls     total    labels  img_size\n",
            "     26/49     1.39G   0.08147   0.04435   0.02106    0.1469        46       416: 100% 5/5 [00:03<00:00,  1.58it/s]\n",
            "               Class      Images      Labels           P           R      mAP@.5  mAP@.5:.95: 100% 1/1 [00:00<00:00,  1.88it/s]\n",
            "                 all          18          53       0.894       0.325       0.383       0.138\n",
            "\n",
            "     Epoch   gpu_mem       box       obj       cls     total    labels  img_size\n",
            "     27/49     1.39G   0.08098   0.04331   0.02083    0.1451        34       416: 100% 5/5 [00:02<00:00,  1.87it/s]\n",
            "               Class      Images      Labels           P           R      mAP@.5  mAP@.5:.95: 100% 1/1 [00:00<00:00,  1.80it/s]\n",
            "                 all          18          53       0.933       0.325       0.396       0.139\n",
            "\n",
            "     Epoch   gpu_mem       box       obj       cls     total    labels  img_size\n",
            "     28/49     1.39G   0.08092    0.0474   0.02041    0.1487        47       416: 100% 5/5 [00:02<00:00,  1.91it/s]\n",
            "               Class      Images      Labels           P           R      mAP@.5  mAP@.5:.95: 100% 1/1 [00:00<00:00,  1.41it/s]\n",
            "                 all          18          53       0.964       0.325       0.417       0.141\n",
            "\n",
            "     Epoch   gpu_mem       box       obj       cls     total    labels  img_size\n",
            "     29/49     1.39G   0.08009   0.04291   0.01983    0.1428        37       416: 100% 5/5 [00:02<00:00,  1.90it/s]\n",
            "               Class      Images      Labels           P           R      mAP@.5  mAP@.5:.95: 100% 1/1 [00:00<00:00,  1.67it/s]\n",
            "                 all          18          53       0.336       0.425       0.392       0.139\n",
            "\n",
            "     Epoch   gpu_mem       box       obj       cls     total    labels  img_size\n",
            "     30/49     1.39G   0.07896   0.04713    0.0198    0.1459        60       416: 100% 5/5 [00:03<00:00,  1.38it/s]\n",
            "               Class      Images      Labels           P           R      mAP@.5  mAP@.5:.95: 100% 1/1 [00:00<00:00,  1.50it/s]\n",
            "                 all          18          53       0.875       0.375       0.423       0.165\n",
            "\n",
            "     Epoch   gpu_mem       box       obj       cls     total    labels  img_size\n",
            "     31/49     1.39G   0.07652   0.04635   0.01945    0.1423        42       416: 100% 5/5 [00:02<00:00,  1.89it/s]\n",
            "               Class      Images      Labels           P           R      mAP@.5  mAP@.5:.95: 100% 1/1 [00:00<00:00,  1.56it/s]\n",
            "                 all          18          53       0.921       0.399       0.449       0.182\n",
            "\n",
            "     Epoch   gpu_mem       box       obj       cls     total    labels  img_size\n",
            "     32/49     1.39G   0.07765   0.05102    0.0193     0.148        63       416: 100% 5/5 [00:02<00:00,  1.82it/s]\n",
            "               Class      Images      Labels           P           R      mAP@.5  mAP@.5:.95: 100% 1/1 [00:00<00:00,  2.09it/s]\n",
            "                 all          18          53         0.9         0.4       0.403       0.158\n",
            "\n",
            "     Epoch   gpu_mem       box       obj       cls     total    labels  img_size\n",
            "     33/49     1.39G   0.07246    0.0476   0.01932    0.1394        44       416: 100% 5/5 [00:02<00:00,  1.73it/s]\n",
            "               Class      Images      Labels           P           R      mAP@.5  mAP@.5:.95: 100% 1/1 [00:00<00:00,  1.27it/s]\n",
            "                 all          18          53       0.921         0.4       0.454       0.181\n",
            "\n",
            "     Epoch   gpu_mem       box       obj       cls     total    labels  img_size\n",
            "     34/49     1.39G   0.07648   0.04569   0.01899    0.1412        53       416: 100% 5/5 [00:03<00:00,  1.60it/s]\n",
            "               Class      Images      Labels           P           R      mAP@.5  mAP@.5:.95: 100% 1/1 [00:00<00:00,  1.95it/s]\n",
            "                 all          18          53       0.921         0.4       0.443       0.175\n",
            "\n",
            "     Epoch   gpu_mem       box       obj       cls     total    labels  img_size\n",
            "     35/49     1.39G   0.07474   0.04663    0.0186      0.14        58       416: 100% 5/5 [00:03<00:00,  1.56it/s]\n",
            "               Class      Images      Labels           P           R      mAP@.5  mAP@.5:.95: 100% 1/1 [00:00<00:00,  1.89it/s]\n",
            "                 all          18          53       0.409        0.45       0.464       0.197\n",
            "\n",
            "     Epoch   gpu_mem       box       obj       cls     total    labels  img_size\n",
            "     36/49     1.39G   0.07372   0.04767   0.01891    0.1403        60       416: 100% 5/5 [00:03<00:00,  1.54it/s]\n",
            "               Class      Images      Labels           P           R      mAP@.5  mAP@.5:.95: 100% 1/1 [00:00<00:00,  1.70it/s]\n",
            "                 all          18          53       0.905       0.425       0.459       0.182\n",
            "\n",
            "     Epoch   gpu_mem       box       obj       cls     total    labels  img_size\n",
            "     37/49     1.39G    0.0752   0.04131   0.01838    0.1349        42       416: 100% 5/5 [00:03<00:00,  1.56it/s]\n",
            "               Class      Images      Labels           P           R      mAP@.5  mAP@.5:.95: 100% 1/1 [00:00<00:00,  1.68it/s]\n",
            "                 all          18          53       0.908        0.45        0.47       0.213\n",
            "\n",
            "     Epoch   gpu_mem       box       obj       cls     total    labels  img_size\n",
            "     38/49     1.39G   0.07193   0.03967   0.01834    0.1299        28       416: 100% 5/5 [00:02<00:00,  1.89it/s]\n",
            "               Class      Images      Labels           P           R      mAP@.5  mAP@.5:.95: 100% 1/1 [00:00<00:00,  1.47it/s]\n",
            "                 all          18          53       0.905       0.425       0.441       0.162\n",
            "\n",
            "     Epoch   gpu_mem       box       obj       cls     total    labels  img_size\n",
            "     39/49     1.39G    0.0743   0.04866   0.01845    0.1414        47       416: 100% 5/5 [00:03<00:00,  1.65it/s]\n",
            "               Class      Images      Labels           P           R      mAP@.5  mAP@.5:.95: 100% 1/1 [00:00<00:00,  1.46it/s]\n",
            "                 all          18          53         0.9         0.4       0.434       0.201\n",
            "\n",
            "     Epoch   gpu_mem       box       obj       cls     total    labels  img_size\n",
            "     40/49     1.39G    0.0732   0.04588   0.01817    0.1373        53       416: 100% 5/5 [00:03<00:00,  1.56it/s]\n",
            "               Class      Images      Labels           P           R      mAP@.5  mAP@.5:.95: 100% 1/1 [00:00<00:00,  1.32it/s]\n",
            "                 all          18          53       0.943       0.425       0.483       0.244\n",
            "\n",
            "     Epoch   gpu_mem       box       obj       cls     total    labels  img_size\n",
            "     41/49     1.39G   0.07415   0.04209   0.01782    0.1341        42       416: 100% 5/5 [00:02<00:00,  1.79it/s]\n",
            "               Class      Images      Labels           P           R      mAP@.5  mAP@.5:.95: 100% 1/1 [00:00<00:00,  1.45it/s]\n",
            "                 all          18          53       0.972       0.425       0.487       0.204\n",
            "\n",
            "     Epoch   gpu_mem       box       obj       cls     total    labels  img_size\n",
            "     42/49     1.39G   0.07176   0.04093   0.01792    0.1306        39       416: 100% 5/5 [00:03<00:00,  1.51it/s]\n",
            "               Class      Images      Labels           P           R      mAP@.5  mAP@.5:.95: 100% 1/1 [00:00<00:00,  1.84it/s]\n",
            "                 all          18          53       0.946       0.425       0.478       0.236\n",
            "\n",
            "     Epoch   gpu_mem       box       obj       cls     total    labels  img_size\n",
            "     43/49     1.39G   0.07175   0.04158   0.01784    0.1312        41       416: 100% 5/5 [00:03<00:00,  1.63it/s]\n",
            "               Class      Images      Labels           P           R      mAP@.5  mAP@.5:.95: 100% 1/1 [00:00<00:00,  1.89it/s]\n",
            "                 all          18          53       0.909        0.45       0.479       0.227\n",
            "\n",
            "     Epoch   gpu_mem       box       obj       cls     total    labels  img_size\n",
            "     44/49     1.39G   0.07188   0.03739   0.01718    0.1265        31       416: 100% 5/5 [00:03<00:00,  1.54it/s]\n",
            "               Class      Images      Labels           P           R      mAP@.5  mAP@.5:.95: 100% 1/1 [00:00<00:00,  1.46it/s]\n",
            "                 all          18          53       0.909        0.45       0.474       0.237\n",
            "\n",
            "     Epoch   gpu_mem       box       obj       cls     total    labels  img_size\n",
            "     45/49     1.39G   0.07118   0.04038   0.01781    0.1294        25       416: 100% 5/5 [00:03<00:00,  1.51it/s]\n",
            "               Class      Images      Labels           P           R      mAP@.5  mAP@.5:.95: 100% 1/1 [00:00<00:00,  1.77it/s]\n",
            "                 all          18          53       0.929        0.45       0.482        0.21\n",
            "\n",
            "     Epoch   gpu_mem       box       obj       cls     total    labels  img_size\n",
            "     46/49     1.39G   0.07143   0.04025   0.01762    0.1293        24       416: 100% 5/5 [00:03<00:00,  1.33it/s]\n",
            "               Class      Images      Labels           P           R      mAP@.5  mAP@.5:.95: 100% 1/1 [00:00<00:00,  1.75it/s]\n",
            "                 all          18          53       0.928        0.45       0.483       0.238\n",
            "\n",
            "     Epoch   gpu_mem       box       obj       cls     total    labels  img_size\n",
            "     47/49     1.39G   0.07066   0.04373   0.01645    0.1308        59       416: 100% 5/5 [00:02<00:00,  1.80it/s]\n",
            "               Class      Images      Labels           P           R      mAP@.5  mAP@.5:.95: 100% 1/1 [00:00<00:00,  1.49it/s]\n",
            "                 all          18          53        0.95        0.45       0.482       0.199\n",
            "\n",
            "     Epoch   gpu_mem       box       obj       cls     total    labels  img_size\n",
            "     48/49     1.39G    0.0724   0.04011   0.01675    0.1293        37       416: 100% 5/5 [00:03<00:00,  1.52it/s]\n",
            "               Class      Images      Labels           P           R      mAP@.5  mAP@.5:.95: 100% 1/1 [00:00<00:00,  1.52it/s]\n",
            "                 all          18          53        0.95        0.45       0.489        0.24\n",
            "\n",
            "     Epoch   gpu_mem       box       obj       cls     total    labels  img_size\n",
            "     49/49     1.39G   0.06945   0.03941   0.01588    0.1247        46       416: 100% 5/5 [00:03<00:00,  1.63it/s]\n",
            "               Class      Images      Labels           P           R      mAP@.5  mAP@.5:.95: 100% 1/1 [00:01<00:00,  1.34s/it]\n",
            "                 all          18          53       0.972        0.45       0.491       0.226\n",
            "                 dog          18          20       0.944         0.9       0.953       0.444\n",
            "                lead          18          33           1           0      0.0283     0.00696\n",
            "50 epochs completed in 0.078 hours.\n",
            "\n",
            "Optimizer stripped from runs/train/dogLead_Yolov5_result7/weights/last.pt, 14.4MB\n",
            "Optimizer stripped from runs/train/dogLead_Yolov5_result7/weights/best.pt, 14.4MB\n"
          ],
          "name": "stdout"
        }
      ]
    },
    {
      "cell_type": "code",
      "metadata": {
        "colab": {
          "base_uri": "https://localhost:8080/"
        },
        "id": "6UvktaCHSlSV",
        "outputId": "93e6827e-f140-4f76-d725-8591088dfd3d"
      },
      "source": [
        "!git push"
      ],
      "execution_count": 26,
      "outputs": [
        {
          "output_type": "stream",
          "text": [
            "fatal: could not read Username for 'https://github.com': No such device or address\n"
          ],
          "name": "stdout"
        }
      ]
    }
  ]
}